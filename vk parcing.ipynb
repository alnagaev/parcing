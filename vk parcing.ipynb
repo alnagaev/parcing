{
 "cells": [
  {
   "cell_type": "code",
   "execution_count": 22,
   "metadata": {
    "collapsed": false
   },
   "outputs": [
    {
     "name": "stdout",
     "output_type": "stream",
     "text": [
      "[<div class=\"wi_buttons\"><div class=\"wi_buttons_wrap\"><span class=\"like_wrap\"><a class=\"item_like _i\" href=\"/like?act=add&amp;object=wall-79138567_548354&amp;from=wall-79138567_548354&amp;hash=5d6635e67580228453&amp;wide=1\"><i class=\"i_like\"></i><b class=\"v_like\">78</b></a><a class=\"item_share is_empty _i\" href=\"/like?act=publish&amp;object=wall-79138567_548354&amp;from=wall-79138567_548354\"><i class=\"i_share\"></i><b class=\"v_share\">3</b></a></span><span class=\"item_views \"><i class=\"i_views\"></i><b class=\"v_views\">12K</b></span></div></div>]\n",
      "12K\n"
     ]
    }
   ],
   "source": [
    "from urllib.request import urlopen as uReq\n",
    "from bs4 import BeautifulSoup as soup \n",
    "import csv\n",
    "import re \n",
    "\n",
    "my_url = 'https://vk.com/thqstn?w=wall-79138567_548354'\n",
    "#открываю соединение, получаю исходник страницы\n",
    "uClient = uReq(my_url)\n",
    "page_html = uClient.read()\n",
    "uClient.close()\n",
    "# html parsing\n",
    "page_soup = soup(page_html, \"html.parser\")\n",
    "views = page_soup.findAll(\"div\", {\"class\": {\"wi_buttons\"}})\n",
    "cocks = re.search(r'(\\d*)', str(views)).group() \n",
    "# grabs each product\n",
    "print(views)\n",
    "print(cocks)\n",
    "\n"
   ]
  },
  {
   "cell_type": "code",
   "execution_count": 4,
   "metadata": {
    "collapsed": false
   },
   "outputs": [
    {
     "name": "stdout",
     "output_type": "stream",
     "text": [
      "<b class=\"v_views\">13K</b>\n",
      "13K\n"
     ]
    }
   ],
   "source": [
    "from urllib.request import urlopen as uReq\n",
    "from bs4 import BeautifulSoup as soup \n",
    "import csv\n",
    "import re \n",
    "\n",
    "my_url = 'https://vk.com/thqstn?w=wall-79138567_548354'\n",
    "#открываю соединение, получаю исходник страницы\n",
    "uClient = uReq(my_url)\n",
    "page_html = uClient.read()\n",
    "uClient.close()\n",
    "# html parsing\n",
    "page_soup = soup(page_html, \"html.parser\")\n",
    "views = page_soup.findAll(\"div\", {\"class\": {\"wi_buttons\"}})\n",
    "gg = page_soup.findAll('b')[2]\n",
    "m = re.search('(?<=>)\\w+', str(gg)).group()\n",
    "print(gg)\n",
    "print(m)\n",
    "\n",
    "\n",
    "\n",
    "\n",
    "\n",
    "\n",
    "\n"
   ]
  },
  {
   "cell_type": "code",
   "execution_count": 40,
   "metadata": {
    "collapsed": false
   },
   "outputs": [
    {
     "name": "stdout",
     "output_type": "stream",
     "text": [
      "egg\n"
     ]
    }
   ],
   "source": [
    "m = re.search('(?<=-)\\w+', 'spam-egg').group(0)\n",
    "print(m)"
   ]
  },
  {
   "cell_type": "code",
   "execution_count": 37,
   "metadata": {
    "collapsed": false
   },
   "outputs": [
    {
     "name": "stdout",
     "output_type": "stream",
     "text": [
      "2900\n"
     ]
    }
   ],
   "source": [
    "from urllib.request import urlopen as uReq\n",
    "from bs4 import BeautifulSoup as soup \n",
    "import csv\n",
    "import re \n",
    "\n",
    "my_url = 'https://vk.com/teamnavalny_spb?w=wall-139246969_15290'\n",
    "#открываю соединение, получаю исходник страницы\n",
    "uClient = uReq(my_url)\n",
    "page_html = uClient.read()\n",
    "uClient.close()\n",
    "# html parsing\n",
    "page_soup = soup(page_html, \"html.parser\")\n",
    "views = page_soup.findAll(\"div\", {\"class\": {\"wi_buttons\"}})\n",
    "gg = page_soup.findAll('b')\n",
    "gg1 = str(gg)\n",
    "if \".\" in gg1:\n",
    "    gg2 = gg1.replace(\".\", \"a\").replace(\"K\",\"00\")\n",
    "    m = re.search('(?<=ws\">)\\w+', str(gg2)).group()\n",
    "    k = m.replace(\"a\", \"\")\n",
    "    print(k)\n",
    "else:\n",
    "    nocomma = gg1.replace(\"K\",\"000\")\n",
    "    n = re.search('(?<=ws\">)\\w+', str(nocomma)).group()\n",
    "    print(n)\n",
    "\n"
   ]
  },
  {
   "cell_type": "code",
   "execution_count": 41,
   "metadata": {
    "collapsed": false
   },
   "outputs": [
    {
     "name": "stdout",
     "output_type": "stream",
     "text": [
      "138\n",
      "201\n",
      "751\n",
      "2300\n",
      "2600\n",
      "5100\n",
      "4700\n",
      "3600\n",
      "1100\n",
      "241\n",
      "1100\n",
      "15000\n",
      "2300\n",
      "7200\n",
      "2300\n",
      "6800\n",
      "5800\n",
      "295\n",
      "361\n"
     ]
    }
   ],
   "source": [
    "from urllib.request import urlopen as uReq\n",
    "from bs4 import BeautifulSoup as soup \n",
    "import csv\n",
    "import re \n",
    "from contextlib import suppress\n",
    "\n",
    "f = open('C:/Users/alnag/Documents/protest1.txt', \"r\")\n",
    "lines = f.readlines()\n",
    "a = [l.strip() for l in lines]\n",
    "f.close()\n",
    "list1 = a\n",
    "for i in a:\n",
    "    my_url = i\n",
    "#открываю соединение, получаю исходник страницы\n",
    "    uClient = uReq(my_url)\n",
    "    page_html = uClient.read()\n",
    "    uClient.close()\n",
    "# html parsing\n",
    "    page_soup = soup(page_html, \"html.parser\")\n",
    "    views = page_soup.findAll(\"div\", {\"class\": {\"wi_buttons\"}})\n",
    "    gg = page_soup.findAll('b')\n",
    "    gg1 = str(gg)\n",
    "    if \".\" in gg1:\n",
    "        gg2 = gg1.replace(\".\", \"a\").replace(\"K\",\"00\")\n",
    "        m = re.search('(?<=ws\">)\\w+', str(gg2)).group()\n",
    "        k = m.replace(\"a\", \"\")\n",
    "        print(k)\n",
    "    else:\n",
    "        nocomma = gg1.replace(\"K\",\"000\")\n",
    "        with suppress (AttributeError):\n",
    "            n = re.search('(?<=ws\">)\\w+', str(nocomma)).group()\n",
    "            print(n)\n"
   ]
  },
  {
   "cell_type": "code",
   "execution_count": 7,
   "metadata": {
    "collapsed": false
   },
   "outputs": [
    {
     "name": "stdout",
     "output_type": "stream",
     "text": [
      "0\n",
      "139\n",
      "202\n",
      "752\n",
      "2300\n",
      "2600\n",
      "5100\n",
      "4800\n",
      "3600\n",
      "1100\n",
      "241\n",
      "1100\n",
      "15000\n",
      "2300\n",
      "7200\n",
      "2300\n",
      "6800\n",
      "5800\n",
      "296\n",
      "365\n"
     ]
    }
   ],
   "source": [
    "from urllib.request import urlopen as uReq\n",
    "from bs4 import BeautifulSoup as soup \n",
    "import csv\n",
    "import re \n",
    "from contextlib import suppress\n",
    "\n",
    "f = open('C:/Users/alnag/Documents/protest1.txt', \"r\")# загружаем документ, прописывая путь от диска до файла\n",
    "lines = f.readlines()\n",
    "a = [l.strip() for l in lines]\n",
    "f.close()\n",
    "list1 = a\n",
    "for i in a:\n",
    "    my_url = i\n",
    "#открываю соединение, получаю исходник страницы\n",
    "    uClient = uReq(my_url)\n",
    "    page_html = uClient.read()\n",
    "    uClient.close()\n",
    "# html parsing\n",
    "    page_soup = soup(page_html, \"html.parser\")\n",
    "    views = page_soup.findAll(\"div\", {\"class\": {\"wi_buttons\"}})\n",
    "    gg = page_soup.findAll('b')#находим значения класса b, тут и лайки и репосты и просмотры\n",
    "    gg1 = str(gg)#превращаем нашу кашицу в string\n",
    "    if \".\" in gg1:\n",
    "        gg2 = gg1.replace(\".\", \"a\").replace(\"K\",\"00\")# меняем точку на \"а\", потому что \".\" - разделитель, а буква нет. \n",
    "        #Где есть точка, K заменяется на 00, где нет - на 000\n",
    "        m = re.search('(?<=ws\">)\\w+', str(gg2)).group()# находим искомый паттерн\n",
    "        k = m.replace(\"a\", \"\")# убираем пробел\n",
    "        print(k)\n",
    "    else:\n",
    "        nocomma = gg1.replace(\"K\",\"000\")# используем try, чтобы словить attribute error, она возникает, когда на посте нет просмотров.\n",
    "        try:\n",
    "            n = re.search('(?<=ws\">)\\w+', str(nocomma)).group()\n",
    "            print(n)\n",
    "        except AttributeError:\n",
    "            print(0)# лучше 0, потому что потом в таблице не хочется возиться с буквеными выражениями\n",
    "        \n"
   ]
  },
  {
   "cell_type": "code",
   "execution_count": 14,
   "metadata": {
    "collapsed": false
   },
   "outputs": [
    {
     "name": "stdout",
     "output_type": "stream",
     "text": [
      "Дата Время Лайки Репосты паблик постер паблик источник ссылка на пост\n",
      "2017-07-19 06:10:40 1 0 vk.com/public87541481 vk.com/public137781355 https://vk.com/wall-87541481_1988\n",
      "2017-07-18 22:43:49 6 1 vk.com/public23798874 vk.com/public23798874 https://vk.com/wall-23798874_9973\n",
      "2017-07-18 22:30:12 9 4 vk.com/public23798874 vk.com/public23798874 https://vk.com/wall-23798874_9972\n",
      "2017-07-18 19:12:35 4 4 vk.com/public23798874 vk.com/public23798874 https://vk.com/wall-23798874_9971\n",
      "2017-07-16 14:41:20 0 0 vk.com/public23798874 vk.com/public66344998 https://vk.com/wall-23798874_9963\n",
      "2017-07-16 09:38:46 1 0 vk.com/public23798874 vk.com/public139804766 https://vk.com/wall-23798874_9962\n",
      "2017-07-16 00:14:19 6 1 vk.com/public23798874 vk.com/public23798874 https://vk.com/wall-23798874_9961\n",
      "2017-07-13 20:27:34 4 4 vk.com/public23798874 vk.com/public23798874 https://vk.com/wall-23798874_9951\n",
      "2017-07-12 22:38:51 8 1 vk.com/public23798874 vk.com/public23798874 https://vk.com/wall-23798874_9948\n",
      "2017-07-12 22:07:52 2 1 vk.com/public23798874 vk.com/public23798874 https://vk.com/wall-23798874_9946\n",
      "2017-07-05 22:28:12 3 0 vk.com/public23798874 vk.com/public66344998 https://vk.com/wall-23798874_9921\n",
      "Пост удален или заблокирован\n",
      "2017-07-05 22:28:12 3 0 vk.com/public23798874 vk.com/public66344998 https://vk.com/wall-23798874_9921\n",
      "2017-07-11 06:10:14 407 28 vk.com/public100401811 vk.com/public100401811 https://vk.com/wall-100401811_53553\n",
      "2017-07-09 21:53:09 47 11 vk.com/public86818303 vk.com/public86818303 https://vk.com/wall-86818303_276\n",
      "2017-07-11 17:28:52 6 1 vk.com/public146870853 vk.com/public146870853 https://vk.com/wall-146870853_101\n",
      "2017-07-18 17:06:00 6 0 vk.com/public146870853 vk.com/public146870853 https://vk.com/wall-146870853_120\n",
      "2017-07-18 17:04:17 7 2 vk.com/public146870853 vk.com/public146870853 https://vk.com/wall-146870853_118\n",
      "2017-07-18 17:02:42 6 0 vk.com/public146870853 vk.com/public146870853 https://vk.com/wall-146870853_117\n",
      "2017-07-18 08:43:50 8 3 vk.com/public146870853 vk.com/public146870853 https://vk.com/wall-146870853_114\n",
      "2017-07-18 08:40:07 16 5 vk.com/public146870853 vk.com/public146870853 https://vk.com/wall-146870853_113\n",
      "2017-07-15 19:53:47 60 3 vk.com/public34124284 vk.com/public34124284 https://vk.com/wall-34124284_238929\n",
      "2017-07-09 22:43:27 73 3 vk.com/public51558353 vk.com/public51558353 https://vk.com/wall-51558353_189313\n",
      "2017-07-17 16:12:04 27 1 vk.com/public3760883 vk.com/public3760883 https://vk.com/wall-3760883_22979\n",
      "2017-07-25 15:07:45 0 0 vk.com/public87541481 vk.com/public1631188 https://vk.com/wall-87541481_2004\n",
      "2017-07-24 22:52:37 3 2 vk.com/public87541481 vk.com/public48665772 https://vk.com/wall-87541481_2002\n",
      "2017-07-24 01:23:54 1 0 vk.com/public87541481 vk.com/public48665772 https://vk.com/wall-87541481_2001\n",
      "2017-07-24 14:41:46 2 3 vk.com/public23798874 vk.com/public23798874 https://vk.com/wall-23798874_10017\n",
      "2017-07-24 13:33:22 7 3 vk.com/public23798874 vk.com/public23798874 https://vk.com/wall-23798874_10012\n",
      "2017-07-23 19:38:54 4 4 vk.com/public23798874 vk.com/public23798874 https://vk.com/wall-23798874_10003\n",
      "2017-07-23 19:09:00 3 4 vk.com/public23798874 vk.com/public23798874 https://vk.com/wall-23798874_10001\n",
      "2017-07-23 14:14:02 3 3 vk.com/public23798874 vk.com/public23798874 https://vk.com/wall-23798874_9987\n",
      "2017-07-23 02:02:37 1 1 vk.com/public23798874 vk.com/public66344998 https://vk.com/wall-23798874_9984\n",
      "2017-07-26 08:11:05 374 59 vk.com/public34157205 vk.com/public34157205 https://vk.com/wall-34157205_113989\n",
      "2017-07-25 23:11:03 319 60 vk.com/public34157205 vk.com/public34157205 https://vk.com/wall-34157205_113967\n",
      "2017-07-20 16:56:37 318 16 vk.com/public100401811 vk.com/public100401811 https://vk.com/wall-100401811_54027\n",
      "2017-07-09 21:53:09 47 11 vk.com/public86818303 vk.com/public86818303 https://vk.com/wall-86818303_276\n",
      "2017-07-20 12:16:27 65 60 vk.com/public86818303 vk.com/public86818303 https://vk.com/wall-86818303_290\n",
      "2017-07-20 19:41:02 72 71 vk.com/public86818303 vk.com/public86818303 https://vk.com/wall-86818303_291\n",
      "2017-07-25 13:27:54 3 0 vk.com/public86818303 vk.com/public47604002 https://vk.com/wall-86818303_293\n",
      "2017-07-26 12:42:40 18 4 vk.com/public146870853 vk.com/public146870853 https://vk.com/wall-146870853_133\n",
      "2017-07-20 12:22:08 16 3 vk.com/public146870853 vk.com/public146870853 https://vk.com/wall-146870853_128\n",
      "2017-07-20 11:06:36 7 0 vk.com/public146870853 vk.com/public146870853 https://vk.com/wall-146870853_127\n",
      "2017-07-25 15:00:53 95 4 vk.com/public34124284 vk.com/public34124284 https://vk.com/wall-34124284_239394\n",
      "2017-07-24 08:34:06 160 6 vk.com/public34124284 vk.com/public34124284 https://vk.com/wall-34124284_239324\n",
      "2017-07-23 18:55:50 106 6 vk.com/public34124284 vk.com/public34124284 https://vk.com/wall-34124284_239302\n",
      "2017-07-22 08:36:31 109 11 vk.com/public34124284 vk.com/public34124284 https://vk.com/wall-34124284_239251\n",
      "0\n",
      "139\n",
      "202\n",
      "752\n",
      "2300\n",
      "2600\n",
      "5100\n",
      "4800\n",
      "3600\n",
      "1100\n",
      "241\n",
      "1100\n",
      "15000\n",
      "2300\n",
      "7200\n",
      "2300\n",
      "6800\n",
      "5800\n",
      "296\n",
      "365\n"
     ]
    }
   ],
   "source": [
    "import requests\n",
    "import datetime\n",
    "import re\n",
    "from urllib.request import urlopen as uReq\n",
    "from bs4 import BeautifulSoup as soup \n",
    "import csv\n",
    "\n",
    "filename = \"stalin.csv\"\n",
    "fn = open(filename, \"w\")\n",
    "headers = 'Дата, Время, Лайки, Репосты, паблик постер, паблик источник, ссылка на пост \\n'\n",
    "fn.write(headers)\n",
    "print('Дата', 'Время', 'Лайки', 'Репосты', 'паблик постер', 'паблик источник', 'ссылка на пост')\n",
    "f = open ('C:/Users/alnag/Documents/spravka.txt', \"r\")\n",
    "lines = f.readlines()\n",
    "a = [l.strip() for l in lines]\n",
    "f.close()\n",
    "list1 = a\n",
    "for i in a:\n",
    "    try:\n",
    "        r = requests.get('https://api.vk.com/method/wall.getById', params={'posts':i})\n",
    "        response = r.json()\n",
    "        post_date = datetime.datetime.fromtimestamp(int(response['response'][0]['date'])).strftime('%Y-%m-%d')\n",
    "        post_date_h = datetime.datetime.fromtimestamp(int(response['response'][0]['date'])).strftime('%H:%M:%S')\n",
    "        likes_count = r.json()['response'][0]['likes']['count']\n",
    "        repost_count = r.json()['response'][0]['reposts']['count']\n",
    "        from_id = re.search(r'(\\d+)', str(response['response'][0]['to_id'])).group()#эта загогулина нужна для паблика источника\n",
    "        to_id = r.json()['response'][0]['to_id']# эта загогулина нужна для построения ссылки\n",
    "        uid = r.json()['response'][0]['id'] # эта загогулина нужна для айди поста \n",
    "        link = 'https://vk.com/wall'+str(to_id)+'_'+str(uid)\n",
    "        if 'copy_owner_id' in response['response'][0]:\n",
    "            copy_owner_id = re.search(r'(\\d+)', str(response['response'][0]['copy_owner_id'])).group()\n",
    "        else:\n",
    "            copy_owner_id = re.search(r'(\\d+)', str(response['response'][0]['to_id'])).group()\n",
    "    except IndexError:\n",
    "        print('Пост удален или заблокирован')\n",
    "    print(post_date, post_date_h, likes_count, repost_count,'vk.com/public' +str(from_id), 'vk.com/public'+str(copy_owner_id), 'https://vk.com/wall'+str(to_id)+'_'+str(uid))    \n",
    "\n",
    "fg = open('C:/Users/alnag/Documents/protest1.txt', \"r\")# загружаем документ, прописывая путь от диска до файла\n",
    "lines = fg.readlines()\n",
    "a = [l.strip() for l in lines]\n",
    "fg.close()\n",
    "list1 = a\n",
    "for i in a:\n",
    "    my_url = i\n",
    "#открываю соединение, получаю исходник страницы\n",
    "    uClient = uReq(my_url)\n",
    "    page_html = uClient.read()\n",
    "    uClient.close()\n",
    "# html parsing\n",
    "    page_soup = soup(page_html, \"html.parser\")\n",
    "    views = page_soup.findAll(\"div\", {\"class\": {\"wi_buttons\"}})\n",
    "    gg = page_soup.findAll('b')#находим значения класса b, тут и лайки и репосты и просмотры\n",
    "    gg1 = str(gg)#превращаем нашу кашицу в string\n",
    "    if \".\" in gg1:\n",
    "        gg2 = gg1.replace(\".\", \"a\").replace(\"K\",\"00\")# меняем точку на \"а\", потому что \".\" - разделитель, а буква нет. \n",
    "        #Где есть точка, K заменяется на 00, где нет - на 000\n",
    "        m = re.search('(?<=ws\">)\\w+', str(gg2)).group()# находим искомый паттерн\n",
    "        k = m.replace(\"a\", \"\")# убираем пробел\n",
    "        print(k)\n",
    "    else:\n",
    "        nocomma = gg1.replace(\"K\",\"000\")# используем try, чтобы словить attribute error, она возникает, когда на посте нет просмотров.\n",
    "        try:\n",
    "            k = re.search('(?<=ws\">)\\w+', str(nocomma)).group()\n",
    "            print(k)\n",
    "        except AttributeError:\n",
    "            print(0)# лучше 0, потому что потом в таблице не хочется возиться с буквеными выражениями\n",
    "    fn.write(str(post_date)+ \",\"+ str(post_date_h)+ \",\"+ str(likes_count) + \",\"+ str(repost_count) + \",\"+ 'vk.com/public' +str(from_id) + \",\"+ 'vk.com/public'+str(copy_owner_id)+ \",\"+  'https://vk.com/wall'+str(to_id)+'_'+str(uid) + \",\"+ str(k)+ \"\\n\")        \n",
    "fn.close()     "
   ]
  },
  {
   "cell_type": "code",
   "execution_count": null,
   "metadata": {
    "collapsed": true
   },
   "outputs": [],
   "source": []
  }
 ],
 "metadata": {
  "kernelspec": {
   "display_name": "Python 3",
   "language": "python",
   "name": "python3"
  },
  "language_info": {
   "codemirror_mode": {
    "name": "ipython",
    "version": 3
   },
   "file_extension": ".py",
   "mimetype": "text/x-python",
   "name": "python",
   "nbconvert_exporter": "python",
   "pygments_lexer": "ipython3",
   "version": "3.6.0"
  }
 },
 "nbformat": 4,
 "nbformat_minor": 2
}
