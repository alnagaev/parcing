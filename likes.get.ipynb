import requests, random, time, csv
from utilspie import iterutils
#https://vk.com/video?q=монетка&z=video-82710420_456239719
token = 'dc266595e988265470963b6abcf385d0ebbe32fa45be4d9b0d2b0537d30bdafcac89ddec1584aab75a83d'
video = 'video'
owner_id = -82710420
item_id = 456239719
r = requests.post('https://api.vk.com/method/execute.likesGet?type=video&owner_id='+
                      str(owner_id)+'&item_id='+str(item_id)+'&offset='+str(0)+'&count='+
                      str(25000)+'&access_token='+token)
members = (r.json()['response'][1])
print(members)
members_chunks = list(iterutils.get_chunks(members, 300))# потому что отсоси у тракториста, сука!
for i in members_chunks:
    u = requests.post('https://api.vk.com/method/users.get', params={'user_ids':str(i),'fields':'sex, name, bdate',
                                                                     'access_token':token})
    time.sleep(0.33)
    for i in range(0, 300):
        try:
            uid = u.json()['response'][i]['uid']
            name = u.json()['response'][i]['first_name']
            bdate = u.json()['response'][i]['bdate']
            sex = u.json()['response'][i]['sex']
        except Exception:
            bdate = None
            sex = None
        print(uid, name, bdate, sex)
