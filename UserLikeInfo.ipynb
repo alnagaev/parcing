{
 "cells": [
  {
   "cell_type": "code",
   "execution_count": null,
   "metadata": {
    "collapsed": true
   },
   "outputs": [],
   "source": [
    "import requests, random, time, csv\n",
    "from utilspie import iterutils\n",
    "#https://vk.com/video?q=монетка&z=video-82710420_456239719\n",
    "token = 'dc266595e988265470963b6abcf385d0ebbe32fa45be4d9b0d2b0537d30bdafcac89ddec1584aab75a83d'\n",
    "video = 'video'\n",
    "owner_id = -82710420\n",
    "item_id = 456239719\n",
    "r = requests.post('https://api.vk.com/method/execute.likesGet?type=video&owner_id='+\n",
    "                      str(owner_id)+'&item_id='+str(item_id)+'&offset='+str(0)+'&count='+\n",
    "                      str(25000)+'&access_token='+token)\n",
    "members = (r.json()['response'][1])\n",
    "print(members)\n",
    "members_chunks = list(iterutils.get_chunks(members, 300))# потому что отсоси у тракториста, сука!\n",
    "for i in members_chunks:\n",
    "    u = requests.post('https://api.vk.com/method/users.get', params={'user_ids':str(i),'fields':'sex, name, bdate',\n",
    "                                                                     'access_token':token})\n",
    "    time.sleep(0.33)\n",
    "    for i in range(0, 300):\n",
    "        try:\n",
    "            uid = u.json()['response'][i]['uid']\n",
    "            name = u.json()['response'][i]['first_name']\n",
    "            bdate = u.json()['response'][i]['bdate']\n",
    "            sex = u.json()['response'][i]['sex']\n",
    "        except Exception:\n",
    "            bdate = None\n",
    "            sex = None\n",
    "        print(uid, name, bdate, sex)"
   ]
  }
 ],
 "metadata": {
  "kernelspec": {
   "display_name": "Python 3",
   "language": "python",
   "name": "python3"
  },
  "language_info": {
   "codemirror_mode": {
    "name": "ipython",
    "version": 3
   },
   "file_extension": ".py",
   "mimetype": "text/x-python",
   "name": "python",
   "nbconvert_exporter": "python",
   "pygments_lexer": "ipython3",
   "version": "3.6.0"
  }
 },
 "nbformat": 4,
 "nbformat_minor": 2
}
