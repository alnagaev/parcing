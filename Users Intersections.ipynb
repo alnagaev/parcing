{
 "cells": [
  {
   "cell_type": "code",
   "execution_count": 8,
   "metadata": {
    "collapsed": false
   },
  
    }
   ],
   "source": [
    "import requests\n",
    "import time as t \n",
    "import csv\n",
    "from datetime import datetime, date, time, timedelta\n",
    "import random\n",
    "\n",
    "token = 'dc266595e988265470963b6abcf385d0ebbe32fa45be4d9b0d2b0537d30bdafcac89ddec1584aab75a83d'\n",
    "\n",
    "def get_members_list_id(owner_id):    \n",
    "    members_list =  [] #изначально пустой список участников\n",
    "\n",
    "    #первый запрос на 25000, чтобы получить первые 25000 и количество участников группы\n",
    "    r = requests.post('https://api.vk.com/method/execute.groupsIntersection?group_id='+\n",
    "                      str(owner_id)+'&offset='+str(0)+'&count='+str(25000)+'&access_token='+token).json()['response']\n",
    "    members_count = r[0] #количество участников\n",
    "    \n",
    "    print('В сообществе', owner_id, 'участников :',members_count)\n",
    "    \n",
    "    members_list.extend(r[1]) #вносим первые 25000 ID \n",
    "    \n",
    "    if members_count > 25000:\n",
    "        print('В сообществе',owner_id,'больше 25000 участников.')\n",
    "        for offset in range(25000, members_count, 25000):\n",
    "            count = offset + 25000\n",
    "\n",
    "            r = requests.post('https://api.vk.com/method/execute.groupsIntersection?group_id='+\n",
    "                             str(owner_id)+'&offset='+str(offset)+'&count='+str(count)+'&access_token='+token).json()['response']\n",
    "\n",
    "            members_list.extend(r[1]) #вносим все последующие ID пачками по 25000 ID\n",
    "\n",
    "\n",
    "            #t.sleep(.35) #задержки между запросом --- ВАЖНО: если будут возникать проблемы - расскоментировать \n",
    "        print('Закончен сбор ID для')\n",
    "    else:\n",
    "        print('В сообществе меньше 25000 участников.')\n",
    "\n",
    "    return members_list\n",
    "\n",
    "%time smmblog = get_members_list_id(38369814)\n",
    "%time cerebro = get_members_list_id(73662138)\n",
    "%time imaya = get_members_list_id(40018862)\n",
    "\n",
    "count = len(smmblog + cerebro + imaya)\n",
    "\n",
    "uniq_3 = set(smmblog) | set(cerebro) | set(imaya)\n",
    "len(uniq_3)\n",
    "\n",
    "groups_3 = set(smmblog) & set(cerebro) & set(imaya)\n",
    "len(groups_3)\n",
    "\n",
    "print(len(uniq_3))"
   ]
  },
  {
   "cell_type": "code",
   "execution_count": 5,
   "metadata": {
    "collapsed": false
   },
   "outputs": [
    {
     "name": "stdout",
     "output_type": "stream",
     "text": [
      "32879\n"
     ]
    }
   ],
   "source": [
    "import requests\n",
    "import time as t \n",
    "import csv\n",
    "from datetime import datetime, date, time, timedelta\n",
    "import random\n",
    "\n",
    "owner_id = 38369814\n",
    "token = 'dc266595e988265470963b6abcf385d0ebbe32fa45be4d9b0d2b0537d30bdafcac89ddec1584aab75a83d'\n",
    "\n",
    "r = requests.post('https://api.vk.com/method/execute.groupsIntersection?group_id='+\n",
    "                      str(owner_id)+'&offset='+str(0)+'&count='+str(25000)+'&access_token='+token).json()['response']\n",
    "members_count = r[0]\n",
    "print(members_count)"
   ]
  },
  {
   "cell_type": "code",
   "execution_count": null,
   "metadata": {
    "collapsed": true
   },
   "outputs": [],
   "source": []
  }
 ],
 "metadata": {
  "kernelspec": {
   "display_name": "Python 3",
   "language": "python",
   "name": "python3"
  },
  "language_info": {
   "codemirror_mode": {
    "name": "ipython",
    "version": 3
   },
   "file_extension": ".py",
   "mimetype": "text/x-python",
   "name": "python",
   "nbconvert_exporter": "python",
   "pygments_lexer": "ipython3",
   "version": "3.6.0"
  }
 },
 "nbformat": 4,
 "nbformat_minor": 2
}
