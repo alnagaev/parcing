{
 "cells": [
  {
   "cell_type": "code",
   "execution_count": null,
   "metadata": {},
   "outputs": [],
   "source": [
    "import requests\n",
    "import datetime\n",
    "import re\n",
    "print('Дата', 'Время', 'Лайки', 'Репосты', 'паблик постер', 'паблик источник', 'ссылка на пост')\n",
    "f = open (str(input()), \"r\")\n",
    "lines = f.readlines()\n",
    "a = [l.strip() for l in lines]\n",
    "f.close()\n",
    "for i in a:\n",
    "    try:\n",
    "        r = requests.get('https://api.vk.com/method/wall.getById', params={'posts':i})\n",
    "        response = r.json()\n",
    "        post_date = datetime.datetime.fromtimestamp(int(response['response'][0]['date'])).strftime('%Y-%m-%d')\n",
    "        post_date_h = datetime.datetime.fromtimestamp(int(response['response'][0]['date'])).strftime('%H:%M:%S')\n",
    "        likes_count = response['response'][0]['likes']['count']\n",
    "        repost_count = response['response'][0]['reposts']['count']\n",
    "        from_id = re.search(r'(\\d+)', str(response['response'][0]['to_id'])).group()#эта загогулина нужна для паблика источника\n",
    "        to_id = r.json()['response'][0]['to_id']# эта загогулина нужна для построения ссылки\n",
    "        uid = r.json()['response'][0]['id'] # эта загогулина нужна для айди поста \n",
    "        if 'copy_owner_id' in response['response'][0]:\n",
    "            copy_owner_id = re.search(r'(\\d+)', str(response['response'][0]['copy_owner_id'])).group()\n",
    "        else:\n",
    "            copy_owner_id = re.search(r'(\\d+)', str(response['response'][0]['to_id'])).group()\n",
    "    except IndexError:\n",
    "        print('Пост удален или заблокирован')\n",
    "    print(post_date, post_date_h, likes_count, repost_count,'vk.com/public' +str(from_id), 'vk.com/public'+str(copy_owner_id), 'https://vk.com/wall'+str(to_id)+'_'+str(uid))    \n",
    "\n",
    "    "
   ]
  },
  {
   "cell_type": "code",
   "execution_count": null,
   "metadata": {},
   "outputs": [],
   "source": [
    "import requests\n",
    "import datetime\n",
    "import re\n",
    "\n",
    "\n",
    "filename = str(input())+'.csv'\n",
    "fn = open(filename, \"w\")\n",
    "headers = 'Дата, Время, Лайки, Репосты, паблик постер, паблик источник, ссылка на пост \\n'\n",
    "fn.write(headers)\n",
    "print('Дата', 'Время', 'Лайки', 'Репосты', 'паблик постер', 'паблик источник', 'ссылка на пост')\n",
    "f = open (str(input()), \"r\")\n",
    "lines = f.readlines()\n",
    "a = [l.strip() for l in lines]\n",
    "f.close()\n",
    "for i in a:\n",
    "    try:\n",
    "        r = requests.get('https://api.vk.com/method/wall.getById', params={'posts':i})\n",
    "        response = r.json()\n",
    "        post_date = datetime.datetime.fromtimestamp(int(response['response'][0]['date'])).strftime('%Y-%m-%d')\n",
    "        post_date_h = datetime.datetime.fromtimestamp(int(response['response'][0]['date'])).strftime('%H:%M:%S')\n",
    "        likes_count = response()['response'][0]['likes']['count']\n",
    "        repost_count = response()['response'][0]['reposts']['count']\n",
    "        from_id = re.search(r'(\\d+)', str(response['response'][0]['to_id'])).group()#эта загогулина нужна для паблика источника\n",
    "        to_id = r.json()['response'][0]['to_id']# эта загогулина нужна для построения ссылки\n",
    "        uid = r.json()['response'][0]['id'] # эта загогулина нужна для айди поста \n",
    "        if 'copy_owner_id' in response['response'][0]:\n",
    "            copy_owner_id = re.search(r'(\\d+)', str(response['response'][0]['copy_owner_id'])).group()\n",
    "        else:\n",
    "            copy_owner_id = re.search(r'(\\d+)', str(response['response'][0]['to_id'])).group()\n",
    "    except IndexError:\n",
    "        print('Пост удален или заблокирован')\n",
    "    print(post_date, post_date_h, likes_count, repost_count,'vk.com/public' +str(from_id), 'vk.com/public'+str(copy_owner_id), 'https://vk.com/wall'+str(to_id)+'_'+str(uid))    \n",
    "    fn.write(str(post_date)+ \",\"+ str(post_date_h)+ \",\"+ str(likes_count) + \",\"+ str(repost_count) + \",\"+ 'vk.com/public' +str(from_id) + \",\"+ 'vk.com/public'+str(copy_owner_id)+ \",\"+  'https://vk.com/wall'+str(to_id)+'_'+str(uid) + \"\\n\")\n",
    "fn.close()\n",
    "    #fn.write(post_date + \",\" + post_date_h + \",\"+likes_count + \",\"+ repost_count + \",\"+ 'vk.com/public' +str(from_id) + \",\"+ 'vk.com/public'+str(copy_owner_id)+ \",\"+  'https://vk.com/wall'+str(to_id)+'_'+str(uid) + \"\\n\")"
   ]
  }
 ],
 "metadata": {
  "kernelspec": {
   "display_name": "Python 3",
   "language": "python",
   "name": "python3"
  },
  "language_info": {
   "codemirror_mode": {
    "name": "ipython",
    "version": 3
   },
   "file_extension": ".py",
   "mimetype": "text/x-python",
   "name": "python",
   "nbconvert_exporter": "python",
   "pygments_lexer": "ipython3",
   "version": "3.6.3"
  }
 },
 "nbformat": 4,
 "nbformat_minor": 2
}
