{
 "cells": [
  {
   "cell_type": "code",
   "execution_count": null,
   "metadata": {
    "scrolled": false
   },
   "outputs": [],
   "source": [
    "import requests\n",
    "import time \n",
    "import pprint, codecs\n",
    "import pandas as pd\n",
    "\n",
    "token = open('C:/Users/USER/Documents/token.txt', 'r').read()\n",
    "\n",
    "group_list = []\n",
    "def groupParser(gid):\n",
    "    for i in range(0, 1000, 20):\n",
    "        try:\n",
    "            r = requests.post('https://api.vk.com/method/execute.usGroups?group_id='+\n",
    "                              str(gid)+'&offset='+str(i)+'&v='+'5.73'+'&count='+str(20)+'&access_token='+token).json()['response']\n",
    "            time.sleep(5)\n",
    "            group_list.append(r)\n",
    "        except Exception as e:\n",
    "            group_list.append(str(e))\n",
    "    \n",
    "    return group_list\n",
    "\n",
    "\n",
    "print(groupParser(1))\n",
    "\n",
    "# o = []\n",
    "# try:\n",
    "#     for i in r:\n",
    "#         for j in i:\n",
    "#             o.append(j)\n",
    "# except Exception as e:\n",
    "#     o.append(str(e))\n",
    "\n",
    "# def  popular_personal():\n",
    "#     #Создаем Dataframe по принципу типаж - количество\n",
    "#     dict_items = dict([(x, o.count(x)) for x in set(o)])\n",
    "#     df_2 = pd.DataFrame(list(dict_items.items()), columns=['Personal', 'Count'])\n",
    "#     df_2 = df_2.sort_values(['Count'], ascending = False)\n",
    "#     return df_2\n",
    "\n",
    "# print(popular_personal())"
   ]
  },
  {
   "cell_type": "code",
   "execution_count": null,
   "metadata": {
    "collapsed": true
   },
   "outputs": [],
   "source": []
  }
 ],
 "metadata": {
  "kernelspec": {
   "display_name": "Python 3",
   "language": "python",
   "name": "python3"
  },
  "language_info": {
   "codemirror_mode": {
    "name": "ipython",
    "version": 3
   },
   "file_extension": ".py",
   "mimetype": "text/x-python",
   "name": "python",
   "nbconvert_exporter": "python",
   "pygments_lexer": "ipython3",
   "version": "3.6.3"
  }
 },
 "nbformat": 4,
 "nbformat_minor": 2
}
