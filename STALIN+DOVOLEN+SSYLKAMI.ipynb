{
 "cells": [
  {
   "cell_type": "code",
   "execution_count": 1,
   "metadata": {
    "collapsed": false
   },
   "outputs": [
    {
     "name": "stdout",
     "output_type": "stream",
     "text": [
      "Дата Время Лайки Репосты паблик постер паблик источник ссылка на пост\n",
      "2017-07-19 06:10:40 1 0 vk.com/public87541481 vk.com/public137781355 https://vk.com/wall-87541481_1988\n",
      "2017-07-18 22:43:49 6 1 vk.com/public23798874 vk.com/public23798874 https://vk.com/wall-23798874_9973\n",
      "2017-07-18 22:30:12 9 4 vk.com/public23798874 vk.com/public23798874 https://vk.com/wall-23798874_9972\n",
      "2017-07-18 19:12:35 4 4 vk.com/public23798874 vk.com/public23798874 https://vk.com/wall-23798874_9971\n",
      "2017-07-16 14:41:20 0 0 vk.com/public23798874 vk.com/public66344998 https://vk.com/wall-23798874_9963\n",
      "2017-07-16 09:38:46 1 0 vk.com/public23798874 vk.com/public139804766 https://vk.com/wall-23798874_9962\n",
      "2017-07-16 00:14:19 6 1 vk.com/public23798874 vk.com/public23798874 https://vk.com/wall-23798874_9961\n",
      "2017-07-13 20:27:34 4 4 vk.com/public23798874 vk.com/public23798874 https://vk.com/wall-23798874_9951\n",
      "2017-07-12 22:38:51 8 1 vk.com/public23798874 vk.com/public23798874 https://vk.com/wall-23798874_9948\n",
      "2017-07-12 22:07:52 2 1 vk.com/public23798874 vk.com/public23798874 https://vk.com/wall-23798874_9946\n",
      "2017-07-05 22:28:12 3 0 vk.com/public23798874 vk.com/public66344998 https://vk.com/wall-23798874_9921\n",
      "2017-07-05 22:28:12 3 0 vk.com/public23798874 vk.com/public66344998 https://vk.com/wall-23798874_9921\n",
      "2017-07-11 06:10:14 407 28 vk.com/public100401811 vk.com/public100401811 https://vk.com/wall-100401811_53553\n",
      "2017-07-09 21:53:09 47 11 vk.com/public86818303 vk.com/public86818303 https://vk.com/wall-86818303_276\n",
      "2017-07-11 17:28:52 6 1 vk.com/public146870853 vk.com/public146870853 https://vk.com/wall-146870853_101\n",
      "2017-07-18 17:06:00 6 0 vk.com/public146870853 vk.com/public146870853 https://vk.com/wall-146870853_120\n",
      "2017-07-18 17:04:17 7 2 vk.com/public146870853 vk.com/public146870853 https://vk.com/wall-146870853_118\n",
      "2017-07-18 17:02:42 6 0 vk.com/public146870853 vk.com/public146870853 https://vk.com/wall-146870853_117\n",
      "2017-07-18 08:43:50 8 3 vk.com/public146870853 vk.com/public146870853 https://vk.com/wall-146870853_114\n",
      "2017-07-18 08:40:07 16 5 vk.com/public146870853 vk.com/public146870853 https://vk.com/wall-146870853_113\n",
      "2017-07-15 19:53:47 60 3 vk.com/public34124284 vk.com/public34124284 https://vk.com/wall-34124284_238929\n",
      "2017-07-09 22:43:27 73 3 vk.com/public51558353 vk.com/public51558353 https://vk.com/wall-51558353_189313\n",
      "2017-07-17 16:12:04 27 1 vk.com/public3760883 vk.com/public3760883 https://vk.com/wall-3760883_22979\n",
      "2017-07-25 15:07:45 0 0 vk.com/public87541481 vk.com/public1631188 https://vk.com/wall-87541481_2004\n",
      "2017-07-24 22:52:37 3 2 vk.com/public87541481 vk.com/public48665772 https://vk.com/wall-87541481_2002\n",
      "2017-07-24 01:23:54 1 0 vk.com/public87541481 vk.com/public48665772 https://vk.com/wall-87541481_2001\n",
      "2017-07-24 14:41:46 2 3 vk.com/public23798874 vk.com/public23798874 https://vk.com/wall-23798874_10017\n",
      "2017-07-24 13:33:22 7 3 vk.com/public23798874 vk.com/public23798874 https://vk.com/wall-23798874_10012\n",
      "2017-07-23 19:38:54 4 4 vk.com/public23798874 vk.com/public23798874 https://vk.com/wall-23798874_10003\n",
      "2017-07-23 19:09:00 3 4 vk.com/public23798874 vk.com/public23798874 https://vk.com/wall-23798874_10001\n",
      "2017-07-23 14:14:02 3 3 vk.com/public23798874 vk.com/public23798874 https://vk.com/wall-23798874_9987\n",
      "2017-07-23 02:02:37 1 1 vk.com/public23798874 vk.com/public66344998 https://vk.com/wall-23798874_9984\n",
      "2017-07-26 08:11:05 374 59 vk.com/public34157205 vk.com/public34157205 https://vk.com/wall-34157205_113989\n",
      "2017-07-25 23:11:03 319 61 vk.com/public34157205 vk.com/public34157205 https://vk.com/wall-34157205_113967\n",
      "2017-07-20 16:56:37 318 16 vk.com/public100401811 vk.com/public100401811 https://vk.com/wall-100401811_54027\n",
      "2017-07-09 21:53:09 47 11 vk.com/public86818303 vk.com/public86818303 https://vk.com/wall-86818303_276\n",
      "2017-07-20 12:16:27 65 60 vk.com/public86818303 vk.com/public86818303 https://vk.com/wall-86818303_290\n",
      "2017-07-20 19:41:02 72 71 vk.com/public86818303 vk.com/public86818303 https://vk.com/wall-86818303_291\n",
      "2017-07-25 13:27:54 3 0 vk.com/public86818303 vk.com/public47604002 https://vk.com/wall-86818303_293\n",
      "2017-07-26 12:42:40 18 4 vk.com/public146870853 vk.com/public146870853 https://vk.com/wall-146870853_133\n",
      "2017-07-20 12:22:08 16 3 vk.com/public146870853 vk.com/public146870853 https://vk.com/wall-146870853_128\n",
      "2017-07-20 11:06:36 7 0 vk.com/public146870853 vk.com/public146870853 https://vk.com/wall-146870853_127\n",
      "2017-07-25 15:00:53 95 4 vk.com/public34124284 vk.com/public34124284 https://vk.com/wall-34124284_239394\n",
      "2017-07-24 08:34:06 159 6 vk.com/public34124284 vk.com/public34124284 https://vk.com/wall-34124284_239324\n",
      "2017-07-23 18:55:50 106 6 vk.com/public34124284 vk.com/public34124284 https://vk.com/wall-34124284_239302\n",
      "2017-07-22 08:36:31 109 11 vk.com/public34124284 vk.com/public34124284 https://vk.com/wall-34124284_239251\n"
     ]
    }
   ],
   "source": [
    "import requests\n",
    "import datetime\n",
    "import re\n",
    "from contextlib import suppress\n",
    "print('Дата', 'Время', 'Лайки', 'Репосты', 'паблик постер', 'паблик источник', 'ссылка на пост')\n",
    "f = open ('C:/Users/alnag/Documents/spravka.txt', \"r\")\n",
    "lines = f.readlines()\n",
    "a = [l.strip() for l in lines]\n",
    "f.close()\n",
    "list1 = a\n",
    "for i in a:\n",
    "    r = requests.get('https://api.vk.com/method/wall.getById', params={'posts':i})\n",
    "    response = r.json()\n",
    "    with suppress (IndexError):\n",
    "        post_date = datetime.datetime.fromtimestamp(int(response['response'][0]['date'])).strftime('%Y-%m-%d')\n",
    "        post_date_h = datetime.datetime.fromtimestamp(int(response['response'][0]['date'])).strftime('%H:%M:%S')\n",
    "        likes_count = r.json()['response'][0]['likes']['count']\n",
    "        repost_count = r.json()['response'][0]['reposts']['count']\n",
    "        from_id = re.search(r'(\\d+)', str(response['response'][0]['to_id'])).group()#эта загогулина нужна для паблика источника\n",
    "        to_id = r.json()['response'][0]['to_id']# эта загогулина нужна для построения ссылки\n",
    "        uid = r.json()['response'][0]['id'] # эта загогулина нужна для айди поста \n",
    "        if 'copy_owner_id' in response['response'][0]:\n",
    "            copy_owner_id = re.search(r'(\\d+)', str(response['response'][0]['copy_owner_id'])).group()\n",
    "        else:\n",
    "            copy_owner_id = re.search(r'(\\d+)', str(response['response'][0]['to_id'])).group()\n",
    "    print(post_date, post_date_h, likes_count, repost_count,'vk.com/public' +str(from_id), 'vk.com/public'+str(copy_owner_id), 'https://vk.com/wall'+str(to_id)+'_'+str(uid))"
   ]
  },
  {
   "cell_type": "code",
   "execution_count": 1,
   "metadata": {
    "collapsed": false
   },
   "outputs": [
    {
     "name": "stdout",
     "output_type": "stream",
     "text": [
      "{'response': [{'id': 175, 'from_id': -128346853, 'to_id': -128346853, 'date': 1482877277, 'marked_as_ads': 0, 'post_type': 'copy', 'text': '[club130697166|Петербургский Международный Молодежный Форум Труда] (ПММФТ-2017) - первая в России дискуссионная площадка для диалога молодежи с представителями государства, бизнеса, профсоюзов, НКО и учёными по всему спектру волнующих молодое поколение проблем в сфере труда и занятости.<br><br>🔺Зачем приходить?<br>Послушать лекцию Нобелевского лауреата, задать вопрос известному политику, познакомиться с лучшими молодыми предпринимателями России, получить новый полезный навык, заглянуть в будущее собственной профессии, узнать мнение сверстников по актуальным проблемам и поделиться своими идеями.<br><br>🔺Для кого? <br>[club130697166|ПММФТ-2017] открыт для молодых людей, отличающихся активной жизненной позицией. К участию приглашаются студенты, аспиранты, молодые специалисты и ученые, представители студенческих отрядов и волонтерских проектов.<br><br>🔺Когда и где? <br>14 марта 2017г. Форум радушно примет Кампус СПбГУ «Михайловская дача» (г. Санкт-Петербург, Санкт-Петербургское ш., 109)<br><br>🔴 Зарегистрироваться на ПММФТ-2017 » piylf.spbu.ru<br><br>🔵 Узнать больше о ПММФТ-2017 можно на сайте Форума, а также в информационном письме » bit.ly/informpismoPMMFT17<br><br>Не забудь подписаться на наши аккаунты в социальных сетях, в которых мы в самое ближайшее время начнем рассказывать о спикерах ПММФТ - 2017 и радовать вас интересными новостями! <br><br>Вконтакте » vk.com/piylf<br>Instagram » instagram.com/piylf2017<br>Twitter » twitter.com/piylf2017<br>Facebook » bit.ly/piylf2017<br>Почта » piylf@spbu.ru<br><br>#форум@пммфт2017 #пммфт', 'copy_post_date': 1482347071, 'copy_post_type': 'post', 'copy_owner_id': -130697166, 'copy_post_id': 25, 'copy_text': 'Я тут вроде что-то такое интересное делаю, так что всех приглашаю, кто ещё не видел. Заодно обратите внимание на постики на стене чуть пониже, там Миронов и Таранова ответили! 🤑', 'attachment': {'type': 'photo', 'photo': {'pid': 456239035, 'aid': -7, 'owner_id': -130697166, 'user_id': 100, 'src': 'https://pp.userapi.com/c626225/v626225626/446b9/1fQ-NCdLNPE.jpg', 'src_big': 'https://pp.userapi.com/c626225/v626225626/446ba/L2Yb_oZmURE.jpg', 'src_small': 'https://pp.userapi.com/c626225/v626225626/446b8/Zts97WYiOqw.jpg', 'src_xbig': 'https://pp.userapi.com/c626225/v626225626/446bb/24NHH4SPudE.jpg', 'src_xxbig': 'https://pp.userapi.com/c626225/v626225626/446bc/7niPS2V1obQ.jpg', 'src_xxxbig': 'https://pp.userapi.com/c626225/v626225626/446bd/T8DX7hIX6CE.jpg', 'width': 2560, 'height': 1978, 'text': '', 'created': 1482347013, 'access_key': 'dc39cde9575158a498'}}, 'attachments': [{'type': 'photo', 'photo': {'pid': 456239035, 'aid': -7, 'owner_id': -130697166, 'user_id': 100, 'src': 'https://pp.userapi.com/c626225/v626225626/446b9/1fQ-NCdLNPE.jpg', 'src_big': 'https://pp.userapi.com/c626225/v626225626/446ba/L2Yb_oZmURE.jpg', 'src_small': 'https://pp.userapi.com/c626225/v626225626/446b8/Zts97WYiOqw.jpg', 'src_xbig': 'https://pp.userapi.com/c626225/v626225626/446bb/24NHH4SPudE.jpg', 'src_xxbig': 'https://pp.userapi.com/c626225/v626225626/446bc/7niPS2V1obQ.jpg', 'src_xxxbig': 'https://pp.userapi.com/c626225/v626225626/446bd/T8DX7hIX6CE.jpg', 'width': 2560, 'height': 1978, 'text': '', 'created': 1482347013, 'access_key': 'dc39cde9575158a498'}}, {'type': 'link', 'link': {'url': 'http://piylf.spbu.ru/', 'title': 'Петербургский Международный Молодежный Форум Труда - 2017', 'description': '', 'target': 'external'}}], 'comments': {'count': 0}, 'likes': {'count': 0}, 'reposts': {'count': 0}}]}\n"
     ]
    }
   ],
   "source": [
    "import requests\n",
    "i = '-128346853_175'\n",
    "r = requests.get('https://api.vk.com/method/wall.getById', params={'posts':i})\n",
    "response = r.json()\n",
    "print(r.json())"
   ]
  },
  {
   "cell_type": "code",
   "execution_count": 46,
   "metadata": {
    "collapsed": false
   },
   "outputs": [
    {
     "ename": "SyntaxError",
     "evalue": "invalid syntax (<ipython-input-46-f41dbe938648>, line 6)",
     "output_type": "error",
     "traceback": [
      "\u001b[0;36m  File \u001b[0;32m\"<ipython-input-46-f41dbe938648>\"\u001b[0;36m, line \u001b[0;32m6\u001b[0m\n\u001b[0;31m    if in r.json() 'response' = '[]':\u001b[0m\n\u001b[0m        ^\u001b[0m\n\u001b[0;31mSyntaxError\u001b[0m\u001b[0;31m:\u001b[0m invalid syntax\n"
     ]
    }
   ],
   "source": [
    "import requests\n",
    "a = ['-23798874_9009', '-23798874_9007', '-23798874_9010']\n",
    "for v in a:\n",
    "    r = requests.get('https://api.vk.com/method/wall.getById', params={'posts':v})\n",
    "    response = r.json()\n",
    "    try: \n",
    "        \n",
    "    likes_count = r.json()['response'][0]['likes']['count']\n",
    "    repost_count = r.json()['response'][0]['reposts']['count']\n",
    "    print(likes_count, repost_count)\n"
   ]
  },
  {
   "cell_type": "code",
   "execution_count": 9,
   "metadata": {
    "collapsed": false
   },
   "outputs": [
    {
     "name": "stdout",
     "output_type": "stream",
     "text": [
      "{'error': {'error_code': 5, 'error_msg': 'User authorization failed: no access_token passed.', 'request_params': [{'key': 'oauth', 'value': '1'}, {'key': 'method', 'value': 'stats.get'}, {'key': 'group_id', 'value': '123716335'}]}}\n"
     ]
    }
   ],
   "source": [
    "import requests\n",
    "r = requests.get('https://api.vk.com/method/stats.get', params={'group_id':123716335})\n",
    "response = r.json()\n",
    "print(r.json())"
   ]
  },
  {
   "cell_type": "code",
   "execution_count": 22,
   "metadata": {
    "collapsed": false
   },
   "outputs": [
    {
     "name": "stdout",
     "output_type": "stream",
     "text": [
      "Дата Время Лайки Репосты паблик постер паблик источник ссылка на пост\n",
      "2017-07-19 06:10:40 1 0 vk.com/public87541481 vk.com/public137781355 https://vk.com/wall-87541481_1988\n",
      "2017-07-18 22:43:49 6 1 vk.com/public23798874 vk.com/public23798874 https://vk.com/wall-23798874_9973\n",
      "2017-07-18 22:30:12 9 4 vk.com/public23798874 vk.com/public23798874 https://vk.com/wall-23798874_9972\n",
      "2017-07-18 19:12:35 4 4 vk.com/public23798874 vk.com/public23798874 https://vk.com/wall-23798874_9971\n",
      "2017-07-16 14:41:20 0 0 vk.com/public23798874 vk.com/public66344998 https://vk.com/wall-23798874_9963\n",
      "2017-07-16 09:38:46 1 0 vk.com/public23798874 vk.com/public139804766 https://vk.com/wall-23798874_9962\n",
      "2017-07-16 00:14:19 6 1 vk.com/public23798874 vk.com/public23798874 https://vk.com/wall-23798874_9961\n",
      "2017-07-13 20:27:34 4 4 vk.com/public23798874 vk.com/public23798874 https://vk.com/wall-23798874_9951\n",
      "2017-07-12 22:38:51 8 1 vk.com/public23798874 vk.com/public23798874 https://vk.com/wall-23798874_9948\n",
      "2017-07-12 22:07:52 2 1 vk.com/public23798874 vk.com/public23798874 https://vk.com/wall-23798874_9946\n",
      "2017-07-05 22:28:12 3 0 vk.com/public23798874 vk.com/public66344998 https://vk.com/wall-23798874_9921\n",
      "Пост удален или заблокирован\n",
      "2017-07-05 22:28:12 3 0 vk.com/public23798874 vk.com/public66344998 https://vk.com/wall-23798874_9921\n",
      "2017-07-11 06:10:14 407 28 vk.com/public100401811 vk.com/public100401811 https://vk.com/wall-100401811_53553\n",
      "2017-07-09 21:53:09 47 11 vk.com/public86818303 vk.com/public86818303 https://vk.com/wall-86818303_276\n",
      "2017-07-11 17:28:52 6 1 vk.com/public146870853 vk.com/public146870853 https://vk.com/wall-146870853_101\n",
      "2017-07-18 17:06:00 6 0 vk.com/public146870853 vk.com/public146870853 https://vk.com/wall-146870853_120\n",
      "2017-07-18 17:04:17 7 2 vk.com/public146870853 vk.com/public146870853 https://vk.com/wall-146870853_118\n",
      "2017-07-18 17:02:42 6 0 vk.com/public146870853 vk.com/public146870853 https://vk.com/wall-146870853_117\n",
      "2017-07-18 08:43:50 8 3 vk.com/public146870853 vk.com/public146870853 https://vk.com/wall-146870853_114\n",
      "2017-07-18 08:40:07 16 5 vk.com/public146870853 vk.com/public146870853 https://vk.com/wall-146870853_113\n",
      "2017-07-15 19:53:47 60 3 vk.com/public34124284 vk.com/public34124284 https://vk.com/wall-34124284_238929\n",
      "2017-07-09 22:43:27 73 3 vk.com/public51558353 vk.com/public51558353 https://vk.com/wall-51558353_189313\n",
      "2017-07-17 16:12:04 27 1 vk.com/public3760883 vk.com/public3760883 https://vk.com/wall-3760883_22979\n",
      "2017-07-25 15:07:45 0 0 vk.com/public87541481 vk.com/public1631188 https://vk.com/wall-87541481_2004\n",
      "2017-07-24 22:52:37 3 2 vk.com/public87541481 vk.com/public48665772 https://vk.com/wall-87541481_2002\n",
      "2017-07-24 01:23:54 1 0 vk.com/public87541481 vk.com/public48665772 https://vk.com/wall-87541481_2001\n",
      "2017-07-24 14:41:46 2 3 vk.com/public23798874 vk.com/public23798874 https://vk.com/wall-23798874_10017\n",
      "2017-07-24 13:33:22 7 3 vk.com/public23798874 vk.com/public23798874 https://vk.com/wall-23798874_10012\n",
      "2017-07-23 19:38:54 4 4 vk.com/public23798874 vk.com/public23798874 https://vk.com/wall-23798874_10003\n",
      "2017-07-23 19:09:00 3 4 vk.com/public23798874 vk.com/public23798874 https://vk.com/wall-23798874_10001\n",
      "2017-07-23 14:14:02 3 3 vk.com/public23798874 vk.com/public23798874 https://vk.com/wall-23798874_9987\n",
      "2017-07-23 02:02:37 1 1 vk.com/public23798874 vk.com/public66344998 https://vk.com/wall-23798874_9984\n",
      "2017-07-26 08:11:05 374 59 vk.com/public34157205 vk.com/public34157205 https://vk.com/wall-34157205_113989\n",
      "2017-07-25 23:11:03 319 60 vk.com/public34157205 vk.com/public34157205 https://vk.com/wall-34157205_113967\n",
      "2017-07-20 16:56:37 318 16 vk.com/public100401811 vk.com/public100401811 https://vk.com/wall-100401811_54027\n",
      "2017-07-09 21:53:09 47 11 vk.com/public86818303 vk.com/public86818303 https://vk.com/wall-86818303_276\n",
      "2017-07-20 12:16:27 65 60 vk.com/public86818303 vk.com/public86818303 https://vk.com/wall-86818303_290\n",
      "2017-07-20 19:41:02 72 71 vk.com/public86818303 vk.com/public86818303 https://vk.com/wall-86818303_291\n",
      "2017-07-25 13:27:54 3 0 vk.com/public86818303 vk.com/public47604002 https://vk.com/wall-86818303_293\n",
      "2017-07-26 12:42:40 18 4 vk.com/public146870853 vk.com/public146870853 https://vk.com/wall-146870853_133\n",
      "2017-07-20 12:22:08 16 3 vk.com/public146870853 vk.com/public146870853 https://vk.com/wall-146870853_128\n",
      "2017-07-20 11:06:36 7 0 vk.com/public146870853 vk.com/public146870853 https://vk.com/wall-146870853_127\n",
      "2017-07-25 15:00:53 95 4 vk.com/public34124284 vk.com/public34124284 https://vk.com/wall-34124284_239394\n",
      "2017-07-24 08:34:06 159 6 vk.com/public34124284 vk.com/public34124284 https://vk.com/wall-34124284_239324\n",
      "2017-07-23 18:55:50 106 6 vk.com/public34124284 vk.com/public34124284 https://vk.com/wall-34124284_239302\n",
      "2017-07-22 08:36:31 109 11 vk.com/public34124284 vk.com/public34124284 https://vk.com/wall-34124284_239251\n"
     ]
    }
   ],
   "source": [
    "import requests\n",
    "import datetime\n",
    "import re\n",
    "print('Дата', 'Время', 'Лайки', 'Репосты', 'паблик постер', 'паблик источник', 'ссылка на пост')\n",
    "f = open ('C:/Users/alnag/Documents/spravka.txt', \"r\")\n",
    "lines = f.readlines()\n",
    "a = [l.strip() for l in lines]\n",
    "f.close()\n",
    "list1 = a\n",
    "for i in a:\n",
    "    try:\n",
    "        r = requests.get('https://api.vk.com/method/wall.getById', params={'posts':i})\n",
    "        response = r.json()\n",
    "        post_date = datetime.datetime.fromtimestamp(int(response['response'][0]['date'])).strftime('%Y-%m-%d')\n",
    "        post_date_h = datetime.datetime.fromtimestamp(int(response['response'][0]['date'])).strftime('%H:%M:%S')\n",
    "        likes_count = r.json()['response'][0]['likes']['count']\n",
    "        repost_count = r.json()['response'][0]['reposts']['count']\n",
    "        from_id = re.search(r'(\\d+)', str(response['response'][0]['to_id'])).group()#эта загогулина нужна для паблика источника\n",
    "        to_id = r.json()['response'][0]['to_id']# эта загогулина нужна для построения ссылки\n",
    "        uid = r.json()['response'][0]['id'] # эта загогулина нужна для айди поста \n",
    "        if 'copy_owner_id' in response['response'][0]:\n",
    "            copy_owner_id = re.search(r'(\\d+)', str(response['response'][0]['copy_owner_id'])).group()\n",
    "        else:\n",
    "            copy_owner_id = re.search(r'(\\d+)', str(response['response'][0]['to_id'])).group()\n",
    "    except IndexError:\n",
    "        print('Пост удален или заблокирован')\n",
    "    print(post_date, post_date_h, likes_count, repost_count,'vk.com/public' +str(from_id), 'vk.com/public'+str(copy_owner_id), 'https://vk.com/wall'+str(to_id)+'_'+str(uid))    \n",
    "\n",
    "    "
   ]
  },
  {
   "cell_type": "code",
   "execution_count": 34,
   "metadata": {
    "collapsed": false
   },
   "outputs": [
    {
     "name": "stdout",
     "output_type": "stream",
     "text": [
      "Дата Время Лайки Репосты паблик постер паблик источник ссылка на пост\n",
      "2017-07-19 06:10:40 1 0 vk.com/public87541481 vk.com/public137781355 https://vk.com/wall-87541481_1988\n",
      "2017-07-18 22:43:49 6 1 vk.com/public23798874 vk.com/public23798874 https://vk.com/wall-23798874_9973\n",
      "2017-07-18 22:30:12 9 4 vk.com/public23798874 vk.com/public23798874 https://vk.com/wall-23798874_9972\n",
      "2017-07-18 19:12:35 4 4 vk.com/public23798874 vk.com/public23798874 https://vk.com/wall-23798874_9971\n",
      "2017-07-16 14:41:20 0 0 vk.com/public23798874 vk.com/public66344998 https://vk.com/wall-23798874_9963\n",
      "2017-07-16 09:38:46 1 0 vk.com/public23798874 vk.com/public139804766 https://vk.com/wall-23798874_9962\n",
      "2017-07-16 00:14:19 6 1 vk.com/public23798874 vk.com/public23798874 https://vk.com/wall-23798874_9961\n",
      "2017-07-13 20:27:34 4 4 vk.com/public23798874 vk.com/public23798874 https://vk.com/wall-23798874_9951\n",
      "2017-07-12 22:38:51 8 1 vk.com/public23798874 vk.com/public23798874 https://vk.com/wall-23798874_9948\n",
      "2017-07-12 22:07:52 2 1 vk.com/public23798874 vk.com/public23798874 https://vk.com/wall-23798874_9946\n",
      "2017-07-05 22:28:12 3 0 vk.com/public23798874 vk.com/public66344998 https://vk.com/wall-23798874_9921\n",
      "Пост удален или заблокирован\n",
      "2017-07-05 22:28:12 3 0 vk.com/public23798874 vk.com/public66344998 https://vk.com/wall-23798874_9921\n",
      "2017-07-11 06:10:14 407 28 vk.com/public100401811 vk.com/public100401811 https://vk.com/wall-100401811_53553\n",
      "2017-07-09 21:53:09 47 11 vk.com/public86818303 vk.com/public86818303 https://vk.com/wall-86818303_276\n",
      "2017-07-11 17:28:52 6 1 vk.com/public146870853 vk.com/public146870853 https://vk.com/wall-146870853_101\n",
      "2017-07-18 17:06:00 6 0 vk.com/public146870853 vk.com/public146870853 https://vk.com/wall-146870853_120\n",
      "2017-07-18 17:04:17 7 2 vk.com/public146870853 vk.com/public146870853 https://vk.com/wall-146870853_118\n",
      "2017-07-18 17:02:42 6 0 vk.com/public146870853 vk.com/public146870853 https://vk.com/wall-146870853_117\n",
      "2017-07-18 08:43:50 8 3 vk.com/public146870853 vk.com/public146870853 https://vk.com/wall-146870853_114\n",
      "2017-07-18 08:40:07 16 5 vk.com/public146870853 vk.com/public146870853 https://vk.com/wall-146870853_113\n",
      "2017-07-15 19:53:47 60 3 vk.com/public34124284 vk.com/public34124284 https://vk.com/wall-34124284_238929\n",
      "2017-07-09 22:43:27 73 3 vk.com/public51558353 vk.com/public51558353 https://vk.com/wall-51558353_189313\n",
      "2017-07-17 16:12:04 27 1 vk.com/public3760883 vk.com/public3760883 https://vk.com/wall-3760883_22979\n",
      "2017-07-25 15:07:45 0 0 vk.com/public87541481 vk.com/public1631188 https://vk.com/wall-87541481_2004\n",
      "2017-07-24 22:52:37 3 2 vk.com/public87541481 vk.com/public48665772 https://vk.com/wall-87541481_2002\n",
      "2017-07-24 01:23:54 1 0 vk.com/public87541481 vk.com/public48665772 https://vk.com/wall-87541481_2001\n",
      "2017-07-24 14:41:46 2 3 vk.com/public23798874 vk.com/public23798874 https://vk.com/wall-23798874_10017\n",
      "2017-07-24 13:33:22 7 3 vk.com/public23798874 vk.com/public23798874 https://vk.com/wall-23798874_10012\n",
      "2017-07-23 19:38:54 4 4 vk.com/public23798874 vk.com/public23798874 https://vk.com/wall-23798874_10003\n",
      "2017-07-23 19:09:00 3 4 vk.com/public23798874 vk.com/public23798874 https://vk.com/wall-23798874_10001\n",
      "2017-07-23 14:14:02 3 3 vk.com/public23798874 vk.com/public23798874 https://vk.com/wall-23798874_9987\n",
      "2017-07-23 02:02:37 1 1 vk.com/public23798874 vk.com/public66344998 https://vk.com/wall-23798874_9984\n",
      "2017-07-26 08:11:05 374 59 vk.com/public34157205 vk.com/public34157205 https://vk.com/wall-34157205_113989\n",
      "2017-07-25 23:11:03 319 60 vk.com/public34157205 vk.com/public34157205 https://vk.com/wall-34157205_113967\n",
      "2017-07-20 16:56:37 318 16 vk.com/public100401811 vk.com/public100401811 https://vk.com/wall-100401811_54027\n",
      "2017-07-09 21:53:09 47 11 vk.com/public86818303 vk.com/public86818303 https://vk.com/wall-86818303_276\n",
      "2017-07-20 12:16:27 65 60 vk.com/public86818303 vk.com/public86818303 https://vk.com/wall-86818303_290\n",
      "2017-07-20 19:41:02 72 71 vk.com/public86818303 vk.com/public86818303 https://vk.com/wall-86818303_291\n",
      "2017-07-25 13:27:54 3 0 vk.com/public86818303 vk.com/public47604002 https://vk.com/wall-86818303_293\n",
      "2017-07-26 12:42:40 18 4 vk.com/public146870853 vk.com/public146870853 https://vk.com/wall-146870853_133\n",
      "2017-07-20 12:22:08 16 3 vk.com/public146870853 vk.com/public146870853 https://vk.com/wall-146870853_128\n",
      "2017-07-20 11:06:36 7 0 vk.com/public146870853 vk.com/public146870853 https://vk.com/wall-146870853_127\n",
      "2017-07-25 15:00:53 95 4 vk.com/public34124284 vk.com/public34124284 https://vk.com/wall-34124284_239394\n",
      "2017-07-24 08:34:06 160 6 vk.com/public34124284 vk.com/public34124284 https://vk.com/wall-34124284_239324\n",
      "2017-07-23 18:55:50 106 6 vk.com/public34124284 vk.com/public34124284 https://vk.com/wall-34124284_239302\n",
      "2017-07-22 08:36:31 109 11 vk.com/public34124284 vk.com/public34124284 https://vk.com/wall-34124284_239251\n"
     ]
    }
   ],
   "source": [
    "import requests\n",
    "import datetime\n",
    "import re\n",
    "\n",
    "\n",
    "filename = \"stalin.csv\"\n",
    "fn = open(filename, \"w\")\n",
    "headers = 'Дата, Время, Лайки, Репосты, паблик постер, паблик источник, ссылка на пост \\n'\n",
    "fn.write(headers)\n",
    "print('Дата', 'Время', 'Лайки', 'Репосты', 'паблик постер', 'паблик источник', 'ссылка на пост')\n",
    "f = open ('C:/Users/alnag/Documents/spravka.txt', \"r\")\n",
    "lines = f.readlines()\n",
    "a = [l.strip() for l in lines]\n",
    "f.close()\n",
    "list1 = a\n",
    "for i in a:\n",
    "    try:\n",
    "        r = requests.get('https://api.vk.com/method/wall.getById', params={'posts':i})\n",
    "        response = r.json()\n",
    "        post_date = datetime.datetime.fromtimestamp(int(response['response'][0]['date'])).strftime('%Y-%m-%d')\n",
    "        post_date_h = datetime.datetime.fromtimestamp(int(response['response'][0]['date'])).strftime('%H:%M:%S')\n",
    "        likes_count = r.json()['response'][0]['likes']['count']\n",
    "        repost_count = r.json()['response'][0]['reposts']['count']\n",
    "        from_id = re.search(r'(\\d+)', str(response['response'][0]['to_id'])).group()#эта загогулина нужна для паблика источника\n",
    "        to_id = r.json()['response'][0]['to_id']# эта загогулина нужна для построения ссылки\n",
    "        uid = r.json()['response'][0]['id'] # эта загогулина нужна для айди поста \n",
    "        if 'copy_owner_id' in response['response'][0]:\n",
    "            copy_owner_id = re.search(r'(\\d+)', str(response['response'][0]['copy_owner_id'])).group()\n",
    "        else:\n",
    "            copy_owner_id = re.search(r'(\\d+)', str(response['response'][0]['to_id'])).group()\n",
    "    except IndexError:\n",
    "        print('Пост удален или заблокирован')\n",
    "    print(post_date, post_date_h, likes_count, repost_count,'vk.com/public' +str(from_id), 'vk.com/public'+str(copy_owner_id), 'https://vk.com/wall'+str(to_id)+'_'+str(uid))    \n",
    "    fn.write(str(post_date)+ \",\"+ str(post_date_h)+ \",\"+ str(likes_count) + \",\"+ str(repost_count) + \",\"+ 'vk.com/public' +str(from_id) + \",\"+ 'vk.com/public'+str(copy_owner_id)+ \",\"+  'https://vk.com/wall'+str(to_id)+'_'+str(uid) + \"\\n\")\n",
    "fn.close()\n",
    "    #fn.write(post_date + \",\" + post_date_h + \",\"+likes_count + \",\"+ repost_count + \",\"+ 'vk.com/public' +str(from_id) + \",\"+ 'vk.com/public'+str(copy_owner_id)+ \",\"+  'https://vk.com/wall'+str(to_id)+'_'+str(uid) + \"\\n\")"
   ]
  }
 ],
 "metadata": {
  "kernelspec": {
   "display_name": "Python 3",
   "language": "python",
   "name": "python3"
  },
  "language_info": {
   "codemirror_mode": {
    "name": "ipython",
    "version": 3
   },
   "file_extension": ".py",
   "mimetype": "text/x-python",
   "name": "python",
   "nbconvert_exporter": "python",
   "pygments_lexer": "ipython3",
   "version": "3.6.0"
  }
 },
 "nbformat": 4,
 "nbformat_minor": 2
}
