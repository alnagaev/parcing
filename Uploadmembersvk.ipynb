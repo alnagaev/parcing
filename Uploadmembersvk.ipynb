{
 "cells": [
  {
   "cell_type": "code",
   "execution_count": null,
   "metadata": {
    "collapsed": true
   },
   "outputs": [],
   "source": [
    "import requests\n",
    "import re\n",
    "import time\n",
    "\n",
    "from contextlib import suppress \n",
    "group_id = 48563250\n",
    "offset = 0\n",
    "Token = '7bcbe786dc30553c097010cd323a82438b03a9570a1713e4386e254fac5cc292d2e110a74936f5fc2a1c8'\n",
    "r = requests.get('https://api.vk.com/method/groups.getMembers', params = {'group_id':group_id, \n",
    "                                                                          'fields':'personal', 'offset': offset, 'access_token':Token})\n",
    "filename = \"political.csv\"\n",
    "fn = open(filename, \"w\")\n",
    "headers = 'Id, ФИО, политические взгляды \\n'\n",
    "fn.write(headers)\n",
    "response = r.json()\n",
    "users_count = response['response']['count']\n",
    "print('Количество участников:',users_count)\n",
    "while offset < users_count:\n",
    "    r = requests.get('https://api.vk.com/method/groups.getMembers', params = {'group_id':group_id, \n",
    "                                                                          'fields':'personal', 'offset': offset, 'access_token':Token})\n",
    "    response = r.json()\n",
    "    for i in range(0,100):\n",
    "        uid = response['response']['users'][i]['uid']\n",
    "        name = response['response']['users'][i]['first_name']\n",
    "        last_name = response['response']['users'][i]['last_name']\n",
    "        try:\n",
    "            political = response['response']['users'][i]['personal']['political']     \n",
    "        except KeyError:\n",
    "            political = None  \n",
    "        print(uid,name,last_name, political)\n",
    "    offset = offset + 100  \n",
    "    time.sleep(.33)\n",
    "    \n",
    "\n"
   ]
  }
 ],
 "metadata": {
  "kernelspec": {
   "display_name": "Python 3",
   "language": "python",
   "name": "python3"
  },
  "language_info": {
   "codemirror_mode": {
    "name": "ipython",
    "version": 3
   },
   "file_extension": ".py",
   "mimetype": "text/x-python",
   "name": "python",
   "nbconvert_exporter": "python",
   "pygments_lexer": "ipython3",
   "version": "3.6.0"
  }
 },
 "nbformat": 4,
 "nbformat_minor": 2
}
