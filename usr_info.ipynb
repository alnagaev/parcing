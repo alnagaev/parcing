{
 "cells": [
  {
   "cell_type": "code",
   "execution_count": null,
   "metadata": {
    "scrolled": true
   },
   "outputs": [],
   "source": [
    "import requests\n",
    "import pandas as pd\n",
    "\n",
    "token = open('C:/Users/USER/Documents/token.txt', 'r').read()\n",
    "\n",
    "gid = input()\n",
    "# gid = -1\n",
    "\n",
    "def postParser(gid):\n",
    "    r = requests.post('https://api.vk.com/method/execute.postsGet?id='+\n",
    "                      str(gid)+'&offset='+str(0)+'&v='+'5.73'+'&count='+str(100)+'&access_token='+token).json()['response']\n",
    "\n",
    "    return [r[0], r[1]]\n",
    "\n",
    "\n",
    "count = postParser(gid)[0]\n",
    "ids = postParser(gid)[1]\n",
    "\n",
    "def usersParse():\n",
    "    from collections import defaultdict\n",
    "    s = defaultdict(list)\n",
    "    for i in ids:\n",
    "        try:\n",
    "            r = requests.post('https://api.vk.com/method/execute.likesP?id='+\n",
    "                      str(gid)+'&number='+str(i)+'&v='+'5.73'+'&access_token='+token).json()['response'][0]\n",
    "            for k,v in r.items():\n",
    "                s[k].extend(v)\n",
    "            \n",
    "        except Exception as e:\n",
    "            pass\n",
    "        \n",
    "    return s\n",
    "\n",
    "result = usersParse()\n",
    "df_1 = pd.DataFrame.from_dict(result)\n",
    "\n",
    "def write_excel(df):\n",
    "    #Функция для записи датафрейма в эксель\n",
    "    try:\n",
    "        writer = pd.ExcelWriter('{}.xlsx'.format(input('Input file_name: ')))\n",
    "        df.to_excel(writer,'Sheet1')\n",
    "        writer.save()\n",
    "        print('Файл записан')\n",
    "    except Exception as e:\n",
    "        print(str(e))\n",
    "        \n",
    "write_excel(df_1)"
   ]
  }
 ],
 "metadata": {
  "kernelspec": {
   "display_name": "Python 3",
   "language": "python",
   "name": "python3"
  },
  "language_info": {
   "codemirror_mode": {
    "name": "ipython",
    "version": 3
   },
   "file_extension": ".py",
   "mimetype": "text/x-python",
   "name": "python",
   "nbconvert_exporter": "python",
   "pygments_lexer": "ipython3",
   "version": "3.6.3"
  }
 },
 "nbformat": 4,
 "nbformat_minor": 2
}
